{
 "cells": [
  {
   "cell_type": "markdown",
   "metadata": {
    "papermill": {
     "duration": 0.027404,
     "end_time": "2021-02-21T19:22:31.501897",
     "exception": false,
     "start_time": "2021-02-21T19:22:31.474493",
     "status": "completed"
    },
    "tags": []
   },
   "source": [
    "# HR Analytics"
   ]
  },
  {
   "cell_type": "code",
   "execution_count": 1,
   "metadata": {
    "_cell_guid": "b1076dfc-b9ad-4769-8c92-a6c4dae69d19",
    "_uuid": "8f2839f25d086af736a60e9eeb907d3b93b6e0e5",
    "execution": {
     "iopub.execute_input": "2021-02-21T19:22:31.565417Z",
     "iopub.status.busy": "2021-02-21T19:22:31.564498Z",
     "iopub.status.idle": "2021-02-21T19:22:33.608505Z",
     "shell.execute_reply": "2021-02-21T19:22:33.607358Z"
    },
    "papermill": {
     "duration": 2.080054,
     "end_time": "2021-02-21T19:22:33.608812",
     "exception": false,
     "start_time": "2021-02-21T19:22:31.528758",
     "status": "completed"
    },
    "tags": []
   },
   "outputs": [
    {
     "name": "stdout",
     "output_type": "stream",
     "text": [
      "/kaggle/input/hr-analytics-job-change-of-data-scientists/sample_submission.csv\n",
      "/kaggle/input/hr-analytics-job-change-of-data-scientists/aug_test.csv\n",
      "/kaggle/input/hr-analytics-job-change-of-data-scientists/aug_train.csv\n"
     ]
    }
   ],
   "source": [
    "# This Python 3 environment comes with many helpful analytics libraries installed\n",
    "# It is defined by the kaggle/python Docker image: https://github.com/kaggle/docker-python\n",
    "# For example, here's several helpful packages to load\n",
    "\n",
    "import numpy as np \n",
    "import pandas as pd\n",
    "import seaborn as sns\n",
    "import matplotlib.pyplot as plt\n",
    "from imblearn.over_sampling import SMOTE\n",
    "from sklearn import svm\n",
    "from sklearn import preprocessing\n",
    "import xgboost as xgb\n",
    "from sklearn.model_selection import GridSearchCV, train_test_split\n",
    "from sklearn.metrics import classification_report,accuracy_score\n",
    "from matplotlib import pyplot\n",
    "from xgboost import plot_importance\n",
    "from collections import Counter\n",
    "\n",
    "# Input data files are available in the read-only \"../input/\" directory\n",
    "# For example, running this (by clicking run or pressing Shift+Enter) will list all files under the input directory\n",
    "\n",
    "import os\n",
    "for dirname, _, filenames in os.walk('/kaggle/input'):\n",
    "    for filename in filenames:\n",
    "        print(os.path.join(dirname, filename))\n",
    "\n",
    "# You can write up to 20GB to the current directory (/kaggle/working/) that gets preserved as output when you create a version using \"Save & Run All\" \n",
    "# You can also write temporary files to /kaggle/temp/, but they won't be saved outside of the current session"
   ]
  },
  {
   "cell_type": "code",
   "execution_count": 2,
   "metadata": {
    "execution": {
     "iopub.execute_input": "2021-02-21T19:22:33.677035Z",
     "iopub.status.busy": "2021-02-21T19:22:33.676194Z",
     "iopub.status.idle": "2021-02-21T19:22:33.815762Z",
     "shell.execute_reply": "2021-02-21T19:22:33.815090Z"
    },
    "papermill": {
     "duration": 0.173539,
     "end_time": "2021-02-21T19:22:33.815933",
     "exception": false,
     "start_time": "2021-02-21T19:22:33.642394",
     "status": "completed"
    },
    "tags": []
   },
   "outputs": [
    {
     "data": {
      "text/html": [
       "<div>\n",
       "<style scoped>\n",
       "    .dataframe tbody tr th:only-of-type {\n",
       "        vertical-align: middle;\n",
       "    }\n",
       "\n",
       "    .dataframe tbody tr th {\n",
       "        vertical-align: top;\n",
       "    }\n",
       "\n",
       "    .dataframe thead th {\n",
       "        text-align: right;\n",
       "    }\n",
       "</style>\n",
       "<table border=\"1\" class=\"dataframe\">\n",
       "  <thead>\n",
       "    <tr style=\"text-align: right;\">\n",
       "      <th></th>\n",
       "      <th>enrollee_id</th>\n",
       "      <th>city</th>\n",
       "      <th>city_development_index</th>\n",
       "      <th>gender</th>\n",
       "      <th>relevent_experience</th>\n",
       "      <th>enrolled_university</th>\n",
       "      <th>education_level</th>\n",
       "      <th>major_discipline</th>\n",
       "      <th>experience</th>\n",
       "      <th>company_size</th>\n",
       "      <th>company_type</th>\n",
       "      <th>last_new_job</th>\n",
       "      <th>training_hours</th>\n",
       "      <th>target</th>\n",
       "    </tr>\n",
       "  </thead>\n",
       "  <tbody>\n",
       "    <tr>\n",
       "      <th>0</th>\n",
       "      <td>8949</td>\n",
       "      <td>city_103</td>\n",
       "      <td>0.920</td>\n",
       "      <td>Male</td>\n",
       "      <td>Has relevent experience</td>\n",
       "      <td>no_enrollment</td>\n",
       "      <td>Graduate</td>\n",
       "      <td>STEM</td>\n",
       "      <td>&gt;20</td>\n",
       "      <td>NaN</td>\n",
       "      <td>NaN</td>\n",
       "      <td>1</td>\n",
       "      <td>36</td>\n",
       "      <td>1.0</td>\n",
       "    </tr>\n",
       "    <tr>\n",
       "      <th>1</th>\n",
       "      <td>29725</td>\n",
       "      <td>city_40</td>\n",
       "      <td>0.776</td>\n",
       "      <td>Male</td>\n",
       "      <td>No relevent experience</td>\n",
       "      <td>no_enrollment</td>\n",
       "      <td>Graduate</td>\n",
       "      <td>STEM</td>\n",
       "      <td>15</td>\n",
       "      <td>50-99</td>\n",
       "      <td>Pvt Ltd</td>\n",
       "      <td>&gt;4</td>\n",
       "      <td>47</td>\n",
       "      <td>0.0</td>\n",
       "    </tr>\n",
       "    <tr>\n",
       "      <th>2</th>\n",
       "      <td>11561</td>\n",
       "      <td>city_21</td>\n",
       "      <td>0.624</td>\n",
       "      <td>NaN</td>\n",
       "      <td>No relevent experience</td>\n",
       "      <td>Full time course</td>\n",
       "      <td>Graduate</td>\n",
       "      <td>STEM</td>\n",
       "      <td>5</td>\n",
       "      <td>NaN</td>\n",
       "      <td>NaN</td>\n",
       "      <td>never</td>\n",
       "      <td>83</td>\n",
       "      <td>0.0</td>\n",
       "    </tr>\n",
       "    <tr>\n",
       "      <th>3</th>\n",
       "      <td>33241</td>\n",
       "      <td>city_115</td>\n",
       "      <td>0.789</td>\n",
       "      <td>NaN</td>\n",
       "      <td>No relevent experience</td>\n",
       "      <td>NaN</td>\n",
       "      <td>Graduate</td>\n",
       "      <td>Business Degree</td>\n",
       "      <td>&lt;1</td>\n",
       "      <td>NaN</td>\n",
       "      <td>Pvt Ltd</td>\n",
       "      <td>never</td>\n",
       "      <td>52</td>\n",
       "      <td>1.0</td>\n",
       "    </tr>\n",
       "    <tr>\n",
       "      <th>4</th>\n",
       "      <td>666</td>\n",
       "      <td>city_162</td>\n",
       "      <td>0.767</td>\n",
       "      <td>Male</td>\n",
       "      <td>Has relevent experience</td>\n",
       "      <td>no_enrollment</td>\n",
       "      <td>Masters</td>\n",
       "      <td>STEM</td>\n",
       "      <td>&gt;20</td>\n",
       "      <td>50-99</td>\n",
       "      <td>Funded Startup</td>\n",
       "      <td>4</td>\n",
       "      <td>8</td>\n",
       "      <td>0.0</td>\n",
       "    </tr>\n",
       "  </tbody>\n",
       "</table>\n",
       "</div>"
      ],
      "text/plain": [
       "   enrollee_id      city  city_development_index gender  \\\n",
       "0         8949  city_103                   0.920   Male   \n",
       "1        29725   city_40                   0.776   Male   \n",
       "2        11561   city_21                   0.624    NaN   \n",
       "3        33241  city_115                   0.789    NaN   \n",
       "4          666  city_162                   0.767   Male   \n",
       "\n",
       "       relevent_experience enrolled_university education_level  \\\n",
       "0  Has relevent experience       no_enrollment        Graduate   \n",
       "1   No relevent experience       no_enrollment        Graduate   \n",
       "2   No relevent experience    Full time course        Graduate   \n",
       "3   No relevent experience                 NaN        Graduate   \n",
       "4  Has relevent experience       no_enrollment         Masters   \n",
       "\n",
       "  major_discipline experience company_size    company_type last_new_job  \\\n",
       "0             STEM        >20          NaN             NaN            1   \n",
       "1             STEM         15        50-99         Pvt Ltd           >4   \n",
       "2             STEM          5          NaN             NaN        never   \n",
       "3  Business Degree         <1          NaN         Pvt Ltd        never   \n",
       "4             STEM        >20        50-99  Funded Startup            4   \n",
       "\n",
       "   training_hours  target  \n",
       "0              36     1.0  \n",
       "1              47     0.0  \n",
       "2              83     0.0  \n",
       "3              52     1.0  \n",
       "4               8     0.0  "
      ]
     },
     "execution_count": 2,
     "metadata": {},
     "output_type": "execute_result"
    }
   ],
   "source": [
    "df = pd.read_csv(\"/kaggle/input/hr-analytics-job-change-of-data-scientists/aug_train.csv\")\n",
    "df.head()"
   ]
  },
  {
   "cell_type": "markdown",
   "metadata": {
    "papermill": {
     "duration": 0.02859,
     "end_time": "2021-02-21T19:22:33.873131",
     "exception": false,
     "start_time": "2021-02-21T19:22:33.844541",
     "status": "completed"
    },
    "tags": []
   },
   "source": [
    "# Data Profiling"
   ]
  },
  {
   "cell_type": "code",
   "execution_count": 3,
   "metadata": {
    "execution": {
     "iopub.execute_input": "2021-02-21T19:22:33.956825Z",
     "iopub.status.busy": "2021-02-21T19:22:33.955770Z",
     "iopub.status.idle": "2021-02-21T19:22:33.961538Z",
     "shell.execute_reply": "2021-02-21T19:22:33.960804Z"
    },
    "papermill": {
     "duration": 0.051471,
     "end_time": "2021-02-21T19:22:33.961707",
     "exception": false,
     "start_time": "2021-02-21T19:22:33.910236",
     "status": "completed"
    },
    "tags": []
   },
   "outputs": [
    {
     "data": {
      "text/plain": [
       "(19158, 14)"
      ]
     },
     "execution_count": 3,
     "metadata": {},
     "output_type": "execute_result"
    }
   ],
   "source": [
    "df.shape"
   ]
  },
  {
   "cell_type": "code",
   "execution_count": 4,
   "metadata": {
    "execution": {
     "iopub.execute_input": "2021-02-21T19:22:34.036706Z",
     "iopub.status.busy": "2021-02-21T19:22:34.035643Z",
     "iopub.status.idle": "2021-02-21T19:22:34.065136Z",
     "shell.execute_reply": "2021-02-21T19:22:34.064463Z"
    },
    "papermill": {
     "duration": 0.069974,
     "end_time": "2021-02-21T19:22:34.065301",
     "exception": false,
     "start_time": "2021-02-21T19:22:33.995327",
     "status": "completed"
    },
    "tags": []
   },
   "outputs": [
    {
     "data": {
      "text/html": [
       "<div>\n",
       "<style scoped>\n",
       "    .dataframe tbody tr th:only-of-type {\n",
       "        vertical-align: middle;\n",
       "    }\n",
       "\n",
       "    .dataframe tbody tr th {\n",
       "        vertical-align: top;\n",
       "    }\n",
       "\n",
       "    .dataframe thead th {\n",
       "        text-align: right;\n",
       "    }\n",
       "</style>\n",
       "<table border=\"1\" class=\"dataframe\">\n",
       "  <thead>\n",
       "    <tr style=\"text-align: right;\">\n",
       "      <th></th>\n",
       "      <th>enrollee_id</th>\n",
       "      <th>city_development_index</th>\n",
       "      <th>training_hours</th>\n",
       "      <th>target</th>\n",
       "    </tr>\n",
       "  </thead>\n",
       "  <tbody>\n",
       "    <tr>\n",
       "      <th>count</th>\n",
       "      <td>19158.000000</td>\n",
       "      <td>19158.000000</td>\n",
       "      <td>19158.000000</td>\n",
       "      <td>19158.000000</td>\n",
       "    </tr>\n",
       "    <tr>\n",
       "      <th>mean</th>\n",
       "      <td>16875.358179</td>\n",
       "      <td>0.828848</td>\n",
       "      <td>65.366896</td>\n",
       "      <td>0.249348</td>\n",
       "    </tr>\n",
       "    <tr>\n",
       "      <th>std</th>\n",
       "      <td>9616.292592</td>\n",
       "      <td>0.123362</td>\n",
       "      <td>60.058462</td>\n",
       "      <td>0.432647</td>\n",
       "    </tr>\n",
       "    <tr>\n",
       "      <th>min</th>\n",
       "      <td>1.000000</td>\n",
       "      <td>0.448000</td>\n",
       "      <td>1.000000</td>\n",
       "      <td>0.000000</td>\n",
       "    </tr>\n",
       "    <tr>\n",
       "      <th>25%</th>\n",
       "      <td>8554.250000</td>\n",
       "      <td>0.740000</td>\n",
       "      <td>23.000000</td>\n",
       "      <td>0.000000</td>\n",
       "    </tr>\n",
       "    <tr>\n",
       "      <th>50%</th>\n",
       "      <td>16982.500000</td>\n",
       "      <td>0.903000</td>\n",
       "      <td>47.000000</td>\n",
       "      <td>0.000000</td>\n",
       "    </tr>\n",
       "    <tr>\n",
       "      <th>75%</th>\n",
       "      <td>25169.750000</td>\n",
       "      <td>0.920000</td>\n",
       "      <td>88.000000</td>\n",
       "      <td>0.000000</td>\n",
       "    </tr>\n",
       "    <tr>\n",
       "      <th>max</th>\n",
       "      <td>33380.000000</td>\n",
       "      <td>0.949000</td>\n",
       "      <td>336.000000</td>\n",
       "      <td>1.000000</td>\n",
       "    </tr>\n",
       "  </tbody>\n",
       "</table>\n",
       "</div>"
      ],
      "text/plain": [
       "        enrollee_id  city_development_index  training_hours        target\n",
       "count  19158.000000            19158.000000    19158.000000  19158.000000\n",
       "mean   16875.358179                0.828848       65.366896      0.249348\n",
       "std     9616.292592                0.123362       60.058462      0.432647\n",
       "min        1.000000                0.448000        1.000000      0.000000\n",
       "25%     8554.250000                0.740000       23.000000      0.000000\n",
       "50%    16982.500000                0.903000       47.000000      0.000000\n",
       "75%    25169.750000                0.920000       88.000000      0.000000\n",
       "max    33380.000000                0.949000      336.000000      1.000000"
      ]
     },
     "execution_count": 4,
     "metadata": {},
     "output_type": "execute_result"
    }
   ],
   "source": [
    "df.describe()"
   ]
  },
  {
   "cell_type": "code",
   "execution_count": 5,
   "metadata": {
    "execution": {
     "iopub.execute_input": "2021-02-21T19:22:34.149588Z",
     "iopub.status.busy": "2021-02-21T19:22:34.148182Z",
     "iopub.status.idle": "2021-02-21T19:22:34.168289Z",
     "shell.execute_reply": "2021-02-21T19:22:34.167486Z"
    },
    "papermill": {
     "duration": 0.073726,
     "end_time": "2021-02-21T19:22:34.168471",
     "exception": false,
     "start_time": "2021-02-21T19:22:34.094745",
     "status": "completed"
    },
    "tags": []
   },
   "outputs": [
    {
     "name": "stdout",
     "output_type": "stream",
     "text": [
      "<class 'pandas.core.frame.DataFrame'>\n",
      "RangeIndex: 19158 entries, 0 to 19157\n",
      "Data columns (total 14 columns):\n",
      " #   Column                  Non-Null Count  Dtype  \n",
      "---  ------                  --------------  -----  \n",
      " 0   enrollee_id             19158 non-null  int64  \n",
      " 1   city                    19158 non-null  object \n",
      " 2   city_development_index  19158 non-null  float64\n",
      " 3   gender                  14650 non-null  object \n",
      " 4   relevent_experience     19158 non-null  object \n",
      " 5   enrolled_university     18772 non-null  object \n",
      " 6   education_level         18698 non-null  object \n",
      " 7   major_discipline        16345 non-null  object \n",
      " 8   experience              19093 non-null  object \n",
      " 9   company_size            13220 non-null  object \n",
      " 10  company_type            13018 non-null  object \n",
      " 11  last_new_job            18735 non-null  object \n",
      " 12  training_hours          19158 non-null  int64  \n",
      " 13  target                  19158 non-null  float64\n",
      "dtypes: float64(2), int64(2), object(10)\n",
      "memory usage: 2.0+ MB\n"
     ]
    }
   ],
   "source": [
    "df.info()"
   ]
  },
  {
   "cell_type": "code",
   "execution_count": 6,
   "metadata": {
    "execution": {
     "iopub.execute_input": "2021-02-21T19:22:34.253530Z",
     "iopub.status.busy": "2021-02-21T19:22:34.252742Z",
     "iopub.status.idle": "2021-02-21T19:22:34.262511Z",
     "shell.execute_reply": "2021-02-21T19:22:34.261870Z"
    },
    "papermill": {
     "duration": 0.063274,
     "end_time": "2021-02-21T19:22:34.262678",
     "exception": false,
     "start_time": "2021-02-21T19:22:34.199404",
     "status": "completed"
    },
    "tags": []
   },
   "outputs": [
    {
     "data": {
      "text/plain": [
       "enrollee_id                  0\n",
       "city                         0\n",
       "city_development_index       0\n",
       "gender                    4508\n",
       "relevent_experience          0\n",
       "enrolled_university        386\n",
       "education_level            460\n",
       "major_discipline          2813\n",
       "experience                  65\n",
       "company_size              5938\n",
       "company_type              6140\n",
       "last_new_job               423\n",
       "training_hours               0\n",
       "target                       0\n",
       "dtype: int64"
      ]
     },
     "execution_count": 6,
     "metadata": {},
     "output_type": "execute_result"
    }
   ],
   "source": [
    "df.isnull().sum()"
   ]
  },
  {
   "cell_type": "markdown",
   "metadata": {
    "papermill": {
     "duration": 0.030016,
     "end_time": "2021-02-21T19:22:34.323317",
     "exception": false,
     "start_time": "2021-02-21T19:22:34.293301",
     "status": "completed"
    },
    "tags": []
   },
   "source": [
    "Replacing null values with 'Unknown' for analytics purpose"
   ]
  },
  {
   "cell_type": "code",
   "execution_count": 7,
   "metadata": {
    "execution": {
     "iopub.execute_input": "2021-02-21T19:22:34.389627Z",
     "iopub.status.busy": "2021-02-21T19:22:34.388970Z",
     "iopub.status.idle": "2021-02-21T19:22:34.444187Z",
     "shell.execute_reply": "2021-02-21T19:22:34.442818Z"
    },
    "papermill": {
     "duration": 0.090717,
     "end_time": "2021-02-21T19:22:34.444390",
     "exception": false,
     "start_time": "2021-02-21T19:22:34.353673",
     "status": "completed"
    },
    "tags": []
   },
   "outputs": [
    {
     "data": {
      "text/plain": [
       "enrollee_id               0\n",
       "city                      0\n",
       "city_development_index    0\n",
       "gender                    0\n",
       "relevent_experience       0\n",
       "enrolled_university       0\n",
       "education_level           0\n",
       "major_discipline          0\n",
       "experience                0\n",
       "company_size              0\n",
       "company_type              0\n",
       "last_new_job              0\n",
       "training_hours            0\n",
       "target                    0\n",
       "dtype: int64"
      ]
     },
     "execution_count": 7,
     "metadata": {},
     "output_type": "execute_result"
    }
   ],
   "source": [
    "df1 = df.fillna(\"Unknown\")\n",
    "df1.isnull().sum()"
   ]
  },
  {
   "cell_type": "markdown",
   "metadata": {
    "papermill": {
     "duration": 0.031924,
     "end_time": "2021-02-21T19:22:34.507677",
     "exception": false,
     "start_time": "2021-02-21T19:22:34.475753",
     "status": "completed"
    },
    "tags": []
   },
   "source": [
    "# Data Analysis"
   ]
  },
  {
   "cell_type": "code",
   "execution_count": 8,
   "metadata": {
    "execution": {
     "iopub.execute_input": "2021-02-21T19:22:34.578039Z",
     "iopub.status.busy": "2021-02-21T19:22:34.577359Z",
     "iopub.status.idle": "2021-02-21T19:22:34.854115Z",
     "shell.execute_reply": "2021-02-21T19:22:34.854596Z"
    },
    "papermill": {
     "duration": 0.316199,
     "end_time": "2021-02-21T19:22:34.854810",
     "exception": false,
     "start_time": "2021-02-21T19:22:34.538611",
     "status": "completed"
    },
    "tags": []
   },
   "outputs": [
    {
     "data": {
      "image/png": "[encoded data removed]",
      "text/plain": [
       "<Figure size 432x288 with 1 Axes>"
      ]
     },
     "metadata": {
      "needs_background": "light"
     },
     "output_type": "display_data"
    }
   ],
   "source": [
    "ax = sns.countplot(x=\"target\",data=df1, hue=\"gender\")\n",
    "total =float(len(df))\n",
    "\n",
    "plt.title(\"looking for Job change or not ?\")\n",
    "plt.xlabel(\"looking for job change\")\n",
    "\n",
    "for p in ax.patches:\n",
    "    percentage = '{:.1f}%'.format(100 * p.get_height()/total)\n",
    "    x = p.get_x() + p.get_width()\n",
    "    y = p.get_height()\n",
    "    ax.annotate(percentage, (x, y),ha='right')\n",
    "plt.show()\n"
   ]
  },
  {
   "cell_type": "markdown",
   "metadata": {
    "papermill": {
     "duration": 0.031947,
     "end_time": "2021-02-21T19:22:34.919052",
     "exception": false,
     "start_time": "2021-02-21T19:22:34.887105",
     "status": "completed"
    },
    "tags": []
   },
   "source": [
    "**Observation:**\n",
    "* Around 25% people are lookging for a job change\n",
    "* Out of which, 15.7% people are male\n",
    "* Around 80% people are currently not looking for job change"
   ]
  },
  {
   "cell_type": "code",
   "execution_count": 9,
   "metadata": {
    "execution": {
     "iopub.execute_input": "2021-02-21T19:22:34.992343Z",
     "iopub.status.busy": "2021-02-21T19:22:34.991585Z",
     "iopub.status.idle": "2021-02-21T19:22:35.183685Z",
     "shell.execute_reply": "2021-02-21T19:22:35.184235Z"
    },
    "papermill": {
     "duration": 0.233209,
     "end_time": "2021-02-21T19:22:35.184447",
     "exception": false,
     "start_time": "2021-02-21T19:22:34.951238",
     "status": "completed"
    },
    "tags": []
   },
   "outputs": [
    {
     "data": {
      "image/png": "[encoded data removed]",
      "text/plain": [
       "<Figure size 432x288 with 1 Axes>"
      ]
     },
     "metadata": {
      "needs_background": "light"
     },
     "output_type": "display_data"
    }
   ],
   "source": [
    "ax = sns.countplot(x=\"target\",data=df1, hue=\"relevent_experience\")\n",
    "total =float(len(df))\n",
    "\n",
    "plt.title(\"looking for Job change or not ?\")\n",
    "plt.xlabel(\"looking for job change\")\n",
    "\n",
    "for p in ax.patches:\n",
    "    percentage = '{:.1f}%'.format(100 * p.get_height()/total)\n",
    "    x = p.get_x() + p.get_width()\n",
    "    y = p.get_height()\n",
    "    ax.annotate(percentage, (x, y),ha='right')\n",
    "plt.show()\n"
   ]
  },
  {
   "cell_type": "markdown",
   "metadata": {
    "papermill": {
     "duration": 0.033313,
     "end_time": "2021-02-21T19:22:35.250555",
     "exception": false,
     "start_time": "2021-02-21T19:22:35.217242",
     "status": "completed"
    },
    "tags": []
   },
   "source": [
    "Observation:\n",
    "* Out of those who looks for job change, 15.5 % have relevent experience."
   ]
  },
  {
   "cell_type": "code",
   "execution_count": 10,
   "metadata": {
    "execution": {
     "iopub.execute_input": "2021-02-21T19:22:35.320172Z",
     "iopub.status.busy": "2021-02-21T19:22:35.319499Z",
     "iopub.status.idle": "2021-02-21T19:22:35.540615Z",
     "shell.execute_reply": "2021-02-21T19:22:35.539837Z"
    },
    "papermill": {
     "duration": 0.256725,
     "end_time": "2021-02-21T19:22:35.540769",
     "exception": false,
     "start_time": "2021-02-21T19:22:35.284044",
     "status": "completed"
    },
    "tags": []
   },
   "outputs": [
    {
     "data": {
      "image/png": "[encoded data removed]",
      "text/plain": [
       "<Figure size 432x288 with 1 Axes>"
      ]
     },
     "metadata": {
      "needs_background": "light"
     },
     "output_type": "display_data"
    }
   ],
   "source": [
    "ax = sns.countplot(x=\"education_level\",data=df1[df1['target']==1])\n",
    "total_1 =float(len(df[df['target']==1]))\n",
    "plt.title(\"Educational level of persons looking for job change\")\n",
    "plt.xlabel(\"Educational level\")\n",
    "\n",
    "for p in ax.patches:\n",
    "    percentage = '{:.1f}%'.format(100 * p.get_height()/total_1)\n",
    "    x = p.get_x() + p.get_width()\n",
    "    y = p.get_height()\n",
    "    ax.annotate(percentage, (x, y),ha='right')\n",
    "plt.show()\n"
   ]
  },
  {
   "cell_type": "markdown",
   "metadata": {
    "papermill": {
     "duration": 0.033424,
     "end_time": "2021-02-21T19:22:35.607650",
     "exception": false,
     "start_time": "2021-02-21T19:22:35.574226",
     "status": "completed"
    },
    "tags": []
   },
   "source": [
    "Observation:\n",
    "* Graduates are more likely to look for a job change. "
   ]
  },
  {
   "cell_type": "code",
   "execution_count": 11,
   "metadata": {
    "execution": {
     "iopub.execute_input": "2021-02-21T19:22:35.683002Z",
     "iopub.status.busy": "2021-02-21T19:22:35.681779Z",
     "iopub.status.idle": "2021-02-21T19:22:35.847865Z",
     "shell.execute_reply": "2021-02-21T19:22:35.846992Z"
    },
    "papermill": {
     "duration": 0.207189,
     "end_time": "2021-02-21T19:22:35.848045",
     "exception": false,
     "start_time": "2021-02-21T19:22:35.640856",
     "status": "completed"
    },
    "tags": []
   },
   "outputs": [
    {
     "data": {
      "text/plain": [
       "Text(0.5, 0, 'looking for job change')"
      ]
     },
     "execution_count": 11,
     "metadata": {},
     "output_type": "execute_result"
    },
    {
     "data": {
      "image/png": "[encoded data removed]",
      "text/plain": [
       "<Figure size 432x288 with 1 Axes>"
      ]
     },
     "metadata": {
      "needs_background": "light"
     },
     "output_type": "display_data"
    }
   ],
   "source": [
    "sns.boxplot(x=\"target\",y=\"training_hours\",data=df1,palette=\"Set1\")\n",
    "plt.title(\"Distribution of training hours\")\n",
    "plt.xlabel(\"looking for job change\")"
   ]
  },
  {
   "cell_type": "markdown",
   "metadata": {
    "papermill": {
     "duration": 0.035276,
     "end_time": "2021-02-21T19:22:35.918131",
     "exception": false,
     "start_time": "2021-02-21T19:22:35.882855",
     "status": "completed"
    },
    "tags": []
   },
   "source": [
    "**Observation:**\n",
    "*  Average training hours completed is almost same for people who are looking for job and not. It means training hours doesnt have impact here"
   ]
  },
  {
   "cell_type": "code",
   "execution_count": 12,
   "metadata": {
    "execution": {
     "iopub.execute_input": "2021-02-21T19:22:35.996199Z",
     "iopub.status.busy": "2021-02-21T19:22:35.995542Z",
     "iopub.status.idle": "2021-02-21T19:22:36.149961Z",
     "shell.execute_reply": "2021-02-21T19:22:36.149294Z"
    },
    "papermill": {
     "duration": 0.196344,
     "end_time": "2021-02-21T19:22:36.150107",
     "exception": false,
     "start_time": "2021-02-21T19:22:35.953763",
     "status": "completed"
    },
    "tags": []
   },
   "outputs": [
    {
     "data": {
      "text/plain": [
       "Text(0.5, 0, 'looking for job change')"
      ]
     },
     "execution_count": 12,
     "metadata": {},
     "output_type": "execute_result"
    },
    {
     "data": {
      "image/png": "[encoded data removed]",
      "text/plain": [
       "<Figure size 432x288 with 1 Axes>"
      ]
     },
     "metadata": {
      "needs_background": "light"
     },
     "output_type": "display_data"
    }
   ],
   "source": [
    "sns.boxplot(x=\"target\",y=\"city_development_index\",data=df1,palette=\"Set1\")\n",
    "plt.title(\"Distribution of city development index\")\n",
    "plt.xlabel(\"looking for job change\")"
   ]
  },
  {
   "cell_type": "markdown",
   "metadata": {
    "papermill": {
     "duration": 0.035174,
     "end_time": "2021-02-21T19:22:36.220805",
     "exception": false,
     "start_time": "2021-02-21T19:22:36.185631",
     "status": "completed"
    },
    "tags": []
   },
   "source": [
    "**Observation**\n",
    "* Average city development index for people who are looking for job change is less. So, people from city which has higher development index are less likely to look for job change"
   ]
  },
  {
   "cell_type": "code",
   "execution_count": 13,
   "metadata": {
    "execution": {
     "iopub.execute_input": "2021-02-21T19:22:36.302465Z",
     "iopub.status.busy": "2021-02-21T19:22:36.301725Z",
     "iopub.status.idle": "2021-02-21T19:22:36.490894Z",
     "shell.execute_reply": "2021-02-21T19:22:36.490315Z"
    },
    "papermill": {
     "duration": 0.232233,
     "end_time": "2021-02-21T19:22:36.491055",
     "exception": false,
     "start_time": "2021-02-21T19:22:36.258822",
     "status": "completed"
    },
    "tags": []
   },
   "outputs": [
    {
     "data": {
      "text/plain": [
       "Text(0.5, 1.0, 'looking for job change (major discipline wise)')"
      ]
     },
     "execution_count": 13,
     "metadata": {},
     "output_type": "execute_result"
    },
    {
     "data": {
      "image/png": "[encoded data removed]",
      "text/plain": [
       "<Figure size 576x576 with 1 Axes>"
      ]
     },
     "metadata": {},
     "output_type": "display_data"
    }
   ],
   "source": [
    "major_discipline = df1[df1['target'] == 1]['major_discipline']\n",
    "values = major_discipline.value_counts()\n",
    "labels = values.keys()\n",
    "bar,ax = plt.subplots(figsize=(8,8))\n",
    "plt.pie(x = values, labels = labels , autopct=\"%.2f%%\",pctdistance=0.8)\n",
    "plt.title('looking for job change (major discipline wise)', fontsize=20)"
   ]
  },
  {
   "cell_type": "markdown",
   "metadata": {
    "papermill": {
     "duration": 0.038556,
     "end_time": "2021-02-21T19:22:36.567403",
     "exception": false,
     "start_time": "2021-02-21T19:22:36.528847",
     "status": "completed"
    },
    "tags": []
   },
   "source": [
    "**Observation**:\n",
    "* Around 80% of STEM degree holders are looking fot job change. So, It might be possible that they are more likely to look for job changes "
   ]
  },
  {
   "cell_type": "code",
   "execution_count": 14,
   "metadata": {
    "execution": {
     "iopub.execute_input": "2021-02-21T19:22:36.655006Z",
     "iopub.status.busy": "2021-02-21T19:22:36.651771Z",
     "iopub.status.idle": "2021-02-21T19:22:36.833936Z",
     "shell.execute_reply": "2021-02-21T19:22:36.833389Z"
    },
    "papermill": {
     "duration": 0.2292,
     "end_time": "2021-02-21T19:22:36.834105",
     "exception": false,
     "start_time": "2021-02-21T19:22:36.604905",
     "status": "completed"
    },
    "tags": []
   },
   "outputs": [
    {
     "data": {
      "image/png": "[encoded data removed]",
      "text/plain": [
       "<Figure size 432x288 with 1 Axes>"
      ]
     },
     "metadata": {
      "needs_background": "light"
     },
     "output_type": "display_data"
    }
   ],
   "source": [
    "ax = sns.countplot(x=\"enrolled_university\",data=df1[df1['target']==1])\n",
    "total_1 =float(len(df[df['target']==1]))\n",
    "plt.title(\"University enrollment status of persons looking for job change\")\n",
    "plt.xlabel(\"University enrollment status\")\n",
    "\n",
    "for p in ax.patches:\n",
    "    percentage = '{:.1f}%'.format(100 * p.get_height()/total_1)\n",
    "    x = p.get_x() + p.get_width()\n",
    "    y = p.get_height()\n",
    "    ax.annotate(percentage, (x, y),ha='right')\n",
    "plt.show()"
   ]
  },
  {
   "cell_type": "markdown",
   "metadata": {
    "papermill": {
     "duration": 0.039112,
     "end_time": "2021-02-21T19:22:36.911972",
     "exception": false,
     "start_time": "2021-02-21T19:22:36.872860",
     "status": "completed"
    },
    "tags": []
   },
   "source": [
    "**Observation:**\n",
    "* Around 37% of people who are leaving the job are due to higher studies. Around 61% of the people havent enrolled in any educational courses. So, they might be leaving the job due to other reasons such as salary issues, job satisfaction, etc"
   ]
  },
  {
   "cell_type": "code",
   "execution_count": 15,
   "metadata": {
    "execution": {
     "iopub.execute_input": "2021-02-21T19:22:36.999628Z",
     "iopub.status.busy": "2021-02-21T19:22:36.998873Z",
     "iopub.status.idle": "2021-02-21T19:22:37.216976Z",
     "shell.execute_reply": "2021-02-21T19:22:37.216297Z"
    },
    "papermill": {
     "duration": 0.266119,
     "end_time": "2021-02-21T19:22:37.217119",
     "exception": false,
     "start_time": "2021-02-21T19:22:36.951000",
     "status": "completed"
    },
    "tags": []
   },
   "outputs": [
    {
     "data": {
      "image/png": "[encoded data removed]",
      "text/plain": [
       "<Figure size 432x288 with 1 Axes>"
      ]
     },
     "metadata": {
      "needs_background": "light"
     },
     "output_type": "display_data"
    }
   ],
   "source": [
    "ax = sns.countplot(x=\"last_new_job\",data=df1[df1['target']==1])\n",
    "total_1 =float(len(df[df['target']==1]))\n",
    "plt.title(\"Difference in years between current job and previous job\")\n",
    "plt.xlabel(\"Difference in years\")\n",
    "\n",
    "for p in ax.patches:\n",
    "    percentage = '{:.1f}%'.format(100 * p.get_height()/total_1)\n",
    "    x = p.get_x() + p.get_width()\n",
    "    y = p.get_height()\n",
    "    ax.annotate(percentage, (x, y),ha='right')\n",
    "plt.show()"
   ]
  },
  {
   "cell_type": "markdown",
   "metadata": {
    "papermill": {
     "duration": 0.040566,
     "end_time": "2021-02-21T19:22:37.298566",
     "exception": false,
     "start_time": "2021-02-21T19:22:37.258000",
     "status": "completed"
    },
    "tags": []
   },
   "source": [
    "**Observation:**\n",
    "* Around 44.5 % of the people who are looking out for job change have only one year of difference between their current job and previus job. One of the possible reasons could be, they might not like the work culture of the company"
   ]
  },
  {
   "cell_type": "code",
   "execution_count": 16,
   "metadata": {
    "execution": {
     "iopub.execute_input": "2021-02-21T19:22:37.387219Z",
     "iopub.status.busy": "2021-02-21T19:22:37.386443Z",
     "iopub.status.idle": "2021-02-21T19:22:37.859620Z",
     "shell.execute_reply": "2021-02-21T19:22:37.860102Z"
    },
    "papermill": {
     "duration": 0.521881,
     "end_time": "2021-02-21T19:22:37.860292",
     "exception": false,
     "start_time": "2021-02-21T19:22:37.338411",
     "status": "completed"
    },
    "tags": []
   },
   "outputs": [
    {
     "data": {
      "image/png": "[encoded data removed]",
      "text/plain": [
       "<Figure size 432x288 with 1 Axes>"
      ]
     },
     "metadata": {
      "needs_background": "light"
     },
     "output_type": "display_data"
    }
   ],
   "source": [
    "ax = sns.countplot(x=\"experience\",data=df1[df1['target']==1])\n",
    "total_1 =float(len(df[df['target']==1]))\n",
    "plt.title(\"Work experience\")\n",
    "plt.xlabel(\"Work experience\")\n",
    "\n",
    "for p in ax.patches:\n",
    "    percentage = '{:.1f}%'.format(100 * p.get_height()/total_1)\n",
    "    x = p.get_x() + p.get_width()\n",
    "    y = p.get_height()\n",
    "    ax.annotate(percentage, (x, y),ha='center')\n",
    "plt.show()"
   ]
  },
  {
   "cell_type": "markdown",
   "metadata": {
    "papermill": {
     "duration": 0.04091,
     "end_time": "2021-02-21T19:22:37.942887",
     "exception": false,
     "start_time": "2021-02-21T19:22:37.901977",
     "status": "completed"
    },
    "tags": []
   },
   "source": [
    "**Observation**\n",
    "* People with experience 2,3,4,5 and >20 are mor likely to look for job change"
   ]
  },
  {
   "cell_type": "markdown",
   "metadata": {
    "papermill": {
     "duration": 0.041061,
     "end_time": "2021-02-21T19:22:38.025388",
     "exception": false,
     "start_time": "2021-02-21T19:22:37.984327",
     "status": "completed"
    },
    "tags": []
   },
   "source": [
    "# Data preparation and encoding"
   ]
  },
  {
   "cell_type": "code",
   "execution_count": 17,
   "metadata": {
    "execution": {
     "iopub.execute_input": "2021-02-21T19:22:38.111640Z",
     "iopub.status.busy": "2021-02-21T19:22:38.110966Z",
     "iopub.status.idle": "2021-02-21T19:22:38.138833Z",
     "shell.execute_reply": "2021-02-21T19:22:38.139403Z"
    },
    "papermill": {
     "duration": 0.073091,
     "end_time": "2021-02-21T19:22:38.139587",
     "exception": false,
     "start_time": "2021-02-21T19:22:38.066496",
     "status": "completed"
    },
    "tags": []
   },
   "outputs": [
    {
     "data": {
      "text/plain": [
       "enrollee_id                0.000000\n",
       "city                       0.000000\n",
       "city_development_index     0.000000\n",
       "gender                    23.530640\n",
       "relevent_experience        0.000000\n",
       "enrolled_university        2.014824\n",
       "education_level            2.401086\n",
       "major_discipline          14.683161\n",
       "experience                 0.339284\n",
       "company_size              30.994885\n",
       "company_type              32.049274\n",
       "last_new_job               2.207955\n",
       "training_hours             0.000000\n",
       "target                     0.000000\n",
       "dtype: float64"
      ]
     },
     "execution_count": 17,
     "metadata": {},
     "output_type": "execute_result"
    }
   ],
   "source": [
    "#Checking for percentage of missing values in each columns\n",
    "(df.isnull().sum()/len(df))*100"
   ]
  },
  {
   "cell_type": "markdown",
   "metadata": {
    "papermill": {
     "duration": 0.041276,
     "end_time": "2021-02-21T19:22:38.222304",
     "exception": false,
     "start_time": "2021-02-21T19:22:38.181028",
     "status": "completed"
    },
    "tags": []
   },
   "source": [
    "* Replacing the missing values by mode value for columns that have more than 5% of missing values"
   ]
  },
  {
   "cell_type": "code",
   "execution_count": 18,
   "metadata": {
    "execution": {
     "iopub.execute_input": "2021-02-21T19:22:38.334846Z",
     "iopub.status.busy": "2021-02-21T19:22:38.328218Z",
     "iopub.status.idle": "2021-02-21T19:22:38.338914Z",
     "shell.execute_reply": "2021-02-21T19:22:38.338320Z"
    },
    "papermill": {
     "duration": 0.074747,
     "end_time": "2021-02-21T19:22:38.339175",
     "exception": false,
     "start_time": "2021-02-21T19:22:38.264428",
     "status": "completed"
    },
    "tags": []
   },
   "outputs": [],
   "source": [
    "#Mode Imputation\n",
    "df['gender'] = df['gender'].fillna(df['gender'].mode()[0])\n",
    "df['major_discipline'] = df['major_discipline'].fillna(df['major_discipline'].mode()[0])\n",
    "df['company_size'] = df['company_size'].fillna(df['company_size'].mode()[0])\n",
    "df['company_type'] = df['company_type'].fillna(df['company_type'].mode()[0])"
   ]
  },
  {
   "cell_type": "code",
   "execution_count": 19,
   "metadata": {
    "execution": {
     "iopub.execute_input": "2021-02-21T19:22:38.427809Z",
     "iopub.status.busy": "2021-02-21T19:22:38.425592Z",
     "iopub.status.idle": "2021-02-21T19:22:38.456646Z",
     "shell.execute_reply": "2021-02-21T19:22:38.457220Z"
    },
    "papermill": {
     "duration": 0.076537,
     "end_time": "2021-02-21T19:22:38.457442",
     "exception": false,
     "start_time": "2021-02-21T19:22:38.380905",
     "status": "completed"
    },
    "tags": []
   },
   "outputs": [],
   "source": [
    "#Dropping rest of the null values\n",
    "df.dropna(inplace=True)"
   ]
  },
  {
   "cell_type": "code",
   "execution_count": 20,
   "metadata": {
    "execution": {
     "iopub.execute_input": "2021-02-21T19:22:38.565139Z",
     "iopub.status.busy": "2021-02-21T19:22:38.564363Z",
     "iopub.status.idle": "2021-02-21T19:22:38.572814Z",
     "shell.execute_reply": "2021-02-21T19:22:38.573320Z"
    },
    "papermill": {
     "duration": 0.074138,
     "end_time": "2021-02-21T19:22:38.573537",
     "exception": false,
     "start_time": "2021-02-21T19:22:38.499399",
     "status": "completed"
    },
    "tags": []
   },
   "outputs": [
    {
     "data": {
      "text/plain": [
       "enrollee_id               0\n",
       "city                      0\n",
       "city_development_index    0\n",
       "gender                    0\n",
       "relevent_experience       0\n",
       "enrolled_university       0\n",
       "education_level           0\n",
       "major_discipline          0\n",
       "experience                0\n",
       "company_size              0\n",
       "company_type              0\n",
       "last_new_job              0\n",
       "training_hours            0\n",
       "target                    0\n",
       "dtype: int64"
      ]
     },
     "execution_count": 20,
     "metadata": {},
     "output_type": "execute_result"
    }
   ],
   "source": [
    "df.isnull().sum()"
   ]
  },
  {
   "cell_type": "code",
   "execution_count": 21,
   "metadata": {
    "execution": {
     "iopub.execute_input": "2021-02-21T19:22:38.665711Z",
     "iopub.status.busy": "2021-02-21T19:22:38.664691Z",
     "iopub.status.idle": "2021-02-21T19:22:38.669806Z",
     "shell.execute_reply": "2021-02-21T19:22:38.669152Z"
    },
    "papermill": {
     "duration": 0.053146,
     "end_time": "2021-02-21T19:22:38.669990",
     "exception": false,
     "start_time": "2021-02-21T19:22:38.616844",
     "status": "completed"
    },
    "tags": []
   },
   "outputs": [
    {
     "data": {
      "text/plain": [
       "(18014, 14)"
      ]
     },
     "execution_count": 21,
     "metadata": {},
     "output_type": "execute_result"
    }
   ],
   "source": [
    "df.shape"
   ]
  },
  {
   "cell_type": "code",
   "execution_count": 22,
   "metadata": {
    "execution": {
     "iopub.execute_input": "2021-02-21T19:22:38.759966Z",
     "iopub.status.busy": "2021-02-21T19:22:38.759324Z",
     "iopub.status.idle": "2021-02-21T19:22:38.772922Z",
     "shell.execute_reply": "2021-02-21T19:22:38.773487Z"
    },
    "papermill": {
     "duration": 0.060473,
     "end_time": "2021-02-21T19:22:38.773712",
     "exception": false,
     "start_time": "2021-02-21T19:22:38.713239",
     "status": "completed"
    },
    "tags": []
   },
   "outputs": [],
   "source": [
    "#Encoding experience column\n",
    "experience_mapper = {\n",
    "    '<1'      :    0,'1'       :    1, '2'       :    2, '3'       :    3, '4'       :    4, '5'       :    5,\n",
    "    '6'       :    6,'7'       :    7,'8'       :    8,  '9'       :    9, '10'      :    10, '11'      :    11,\n",
    "    '12'      :    12,'13'      :    13, '14'      :    14, '15'      :    15, '16'      :    16,'17'      :    17,\n",
    "    '18'      :    18,'19'      :    19, '20'      :    20, '>20'     :    21\n",
    "} \n",
    "df.loc[:,'experience'] = df['experience'].map(experience_mapper)  "
   ]
  },
  {
   "cell_type": "code",
   "execution_count": 23,
   "metadata": {
    "execution": {
     "iopub.execute_input": "2021-02-21T19:22:38.866397Z",
     "iopub.status.busy": "2021-02-21T19:22:38.865598Z",
     "iopub.status.idle": "2021-02-21T19:22:39.047433Z",
     "shell.execute_reply": "2021-02-21T19:22:39.046706Z"
    },
    "papermill": {
     "duration": 0.229057,
     "end_time": "2021-02-21T19:22:39.047621",
     "exception": false,
     "start_time": "2021-02-21T19:22:38.818564",
     "status": "completed"
    },
    "tags": []
   },
   "outputs": [
    {
     "data": {
      "text/html": [
       "<div>\n",
       "<style scoped>\n",
       "    .dataframe tbody tr th:only-of-type {\n",
       "        vertical-align: middle;\n",
       "    }\n",
       "\n",
       "    .dataframe tbody tr th {\n",
       "        vertical-align: top;\n",
       "    }\n",
       "\n",
       "    .dataframe thead th {\n",
       "        text-align: right;\n",
       "    }\n",
       "</style>\n",
       "<table border=\"1\" class=\"dataframe\">\n",
       "  <thead>\n",
       "    <tr style=\"text-align: right;\">\n",
       "      <th></th>\n",
       "      <th>enrollee_id</th>\n",
       "      <th>city</th>\n",
       "      <th>city_development_index</th>\n",
       "      <th>experience</th>\n",
       "      <th>last_new_job</th>\n",
       "      <th>training_hours</th>\n",
       "      <th>target</th>\n",
       "      <th>gender_Male</th>\n",
       "      <th>gender_Other</th>\n",
       "      <th>relevent_experience_No relevent experience</th>\n",
       "      <th>...</th>\n",
       "      <th>company_size_10000+</th>\n",
       "      <th>company_size_50-99</th>\n",
       "      <th>company_size_500-999</th>\n",
       "      <th>company_size_5000-9999</th>\n",
       "      <th>company_size_&lt;10</th>\n",
       "      <th>company_type_Funded Startup</th>\n",
       "      <th>company_type_NGO</th>\n",
       "      <th>company_type_Other</th>\n",
       "      <th>company_type_Public Sector</th>\n",
       "      <th>company_type_Pvt Ltd</th>\n",
       "    </tr>\n",
       "  </thead>\n",
       "  <tbody>\n",
       "    <tr>\n",
       "      <th>0</th>\n",
       "      <td>8949</td>\n",
       "      <td>city_103</td>\n",
       "      <td>0.920</td>\n",
       "      <td>21</td>\n",
       "      <td>0</td>\n",
       "      <td>36</td>\n",
       "      <td>1.0</td>\n",
       "      <td>1</td>\n",
       "      <td>0</td>\n",
       "      <td>0</td>\n",
       "      <td>...</td>\n",
       "      <td>0</td>\n",
       "      <td>1</td>\n",
       "      <td>0</td>\n",
       "      <td>0</td>\n",
       "      <td>0</td>\n",
       "      <td>0</td>\n",
       "      <td>0</td>\n",
       "      <td>0</td>\n",
       "      <td>0</td>\n",
       "      <td>1</td>\n",
       "    </tr>\n",
       "    <tr>\n",
       "      <th>1</th>\n",
       "      <td>29725</td>\n",
       "      <td>city_40</td>\n",
       "      <td>0.776</td>\n",
       "      <td>15</td>\n",
       "      <td>4</td>\n",
       "      <td>47</td>\n",
       "      <td>0.0</td>\n",
       "      <td>1</td>\n",
       "      <td>0</td>\n",
       "      <td>1</td>\n",
       "      <td>...</td>\n",
       "      <td>0</td>\n",
       "      <td>1</td>\n",
       "      <td>0</td>\n",
       "      <td>0</td>\n",
       "      <td>0</td>\n",
       "      <td>0</td>\n",
       "      <td>0</td>\n",
       "      <td>0</td>\n",
       "      <td>0</td>\n",
       "      <td>1</td>\n",
       "    </tr>\n",
       "    <tr>\n",
       "      <th>2</th>\n",
       "      <td>11561</td>\n",
       "      <td>city_21</td>\n",
       "      <td>0.624</td>\n",
       "      <td>5</td>\n",
       "      <td>5</td>\n",
       "      <td>83</td>\n",
       "      <td>0.0</td>\n",
       "      <td>1</td>\n",
       "      <td>0</td>\n",
       "      <td>1</td>\n",
       "      <td>...</td>\n",
       "      <td>0</td>\n",
       "      <td>1</td>\n",
       "      <td>0</td>\n",
       "      <td>0</td>\n",
       "      <td>0</td>\n",
       "      <td>0</td>\n",
       "      <td>0</td>\n",
       "      <td>0</td>\n",
       "      <td>0</td>\n",
       "      <td>1</td>\n",
       "    </tr>\n",
       "    <tr>\n",
       "      <th>4</th>\n",
       "      <td>666</td>\n",
       "      <td>city_162</td>\n",
       "      <td>0.767</td>\n",
       "      <td>21</td>\n",
       "      <td>3</td>\n",
       "      <td>8</td>\n",
       "      <td>0.0</td>\n",
       "      <td>1</td>\n",
       "      <td>0</td>\n",
       "      <td>0</td>\n",
       "      <td>...</td>\n",
       "      <td>0</td>\n",
       "      <td>1</td>\n",
       "      <td>0</td>\n",
       "      <td>0</td>\n",
       "      <td>0</td>\n",
       "      <td>1</td>\n",
       "      <td>0</td>\n",
       "      <td>0</td>\n",
       "      <td>0</td>\n",
       "      <td>0</td>\n",
       "    </tr>\n",
       "    <tr>\n",
       "      <th>5</th>\n",
       "      <td>21651</td>\n",
       "      <td>city_176</td>\n",
       "      <td>0.764</td>\n",
       "      <td>11</td>\n",
       "      <td>0</td>\n",
       "      <td>24</td>\n",
       "      <td>1.0</td>\n",
       "      <td>1</td>\n",
       "      <td>0</td>\n",
       "      <td>0</td>\n",
       "      <td>...</td>\n",
       "      <td>0</td>\n",
       "      <td>1</td>\n",
       "      <td>0</td>\n",
       "      <td>0</td>\n",
       "      <td>0</td>\n",
       "      <td>0</td>\n",
       "      <td>0</td>\n",
       "      <td>0</td>\n",
       "      <td>0</td>\n",
       "      <td>1</td>\n",
       "    </tr>\n",
       "  </tbody>\n",
       "</table>\n",
       "<p>5 rows × 33 columns</p>\n",
       "</div>"
      ],
      "text/plain": [
       "   enrollee_id      city  city_development_index  experience  last_new_job  \\\n",
       "0         8949  city_103                   0.920          21             0   \n",
       "1        29725   city_40                   0.776          15             4   \n",
       "2        11561   city_21                   0.624           5             5   \n",
       "4          666  city_162                   0.767          21             3   \n",
       "5        21651  city_176                   0.764          11             0   \n",
       "\n",
       "   training_hours  target  gender_Male  gender_Other  \\\n",
       "0              36     1.0            1             0   \n",
       "1              47     0.0            1             0   \n",
       "2              83     0.0            1             0   \n",
       "4               8     0.0            1             0   \n",
       "5              24     1.0            1             0   \n",
       "\n",
       "   relevent_experience_No relevent experience  ...  company_size_10000+  \\\n",
       "0                                           0  ...                    0   \n",
       "1                                           1  ...                    0   \n",
       "2                                           1  ...                    0   \n",
       "4                                           0  ...                    0   \n",
       "5                                           0  ...                    0   \n",
       "\n",
       "   company_size_50-99  company_size_500-999  company_size_5000-9999  \\\n",
       "0                   1                     0                       0   \n",
       "1                   1                     0                       0   \n",
       "2                   1                     0                       0   \n",
       "4                   1                     0                       0   \n",
       "5                   1                     0                       0   \n",
       "\n",
       "   company_size_<10  company_type_Funded Startup  company_type_NGO  \\\n",
       "0                 0                            0                 0   \n",
       "1                 0                            0                 0   \n",
       "2                 0                            0                 0   \n",
       "4                 0                            1                 0   \n",
       "5                 0                            0                 0   \n",
       "\n",
       "   company_type_Other  company_type_Public Sector  company_type_Pvt Ltd  \n",
       "0                   0                           0                     1  \n",
       "1                   0                           0                     1  \n",
       "2                   0                           0                     1  \n",
       "4                   0                           0                     0  \n",
       "5                   0                           0                     1  \n",
       "\n",
       "[5 rows x 33 columns]"
      ]
     },
     "execution_count": 23,
     "metadata": {},
     "output_type": "execute_result"
    }
   ],
   "source": [
    "#Encoding rest of the columns\n",
    "le = preprocessing.LabelEncoder() \n",
    "df['last_new_job']  = le.fit_transform(df['last_new_job']) \n",
    "df2=pd.get_dummies(df,columns=['gender','relevent_experience','enrolled_university','education_level','major_discipline','company_size','company_type'],drop_first=True)\n",
    "df2.head()"
   ]
  },
  {
   "cell_type": "code",
   "execution_count": 24,
   "metadata": {
    "execution": {
     "iopub.execute_input": "2021-02-21T19:22:39.143604Z",
     "iopub.status.busy": "2021-02-21T19:22:39.142396Z",
     "iopub.status.idle": "2021-02-21T19:22:39.167104Z",
     "shell.execute_reply": "2021-02-21T19:22:39.167548Z"
    },
    "papermill": {
     "duration": 0.076011,
     "end_time": "2021-02-21T19:22:39.167777",
     "exception": false,
     "start_time": "2021-02-21T19:22:39.091766",
     "status": "completed"
    },
    "tags": []
   },
   "outputs": [
    {
     "data": {
      "text/html": [
       "<div>\n",
       "<style scoped>\n",
       "    .dataframe tbody tr th:only-of-type {\n",
       "        vertical-align: middle;\n",
       "    }\n",
       "\n",
       "    .dataframe tbody tr th {\n",
       "        vertical-align: top;\n",
       "    }\n",
       "\n",
       "    .dataframe thead th {\n",
       "        text-align: right;\n",
       "    }\n",
       "</style>\n",
       "<table border=\"1\" class=\"dataframe\">\n",
       "  <thead>\n",
       "    <tr style=\"text-align: right;\">\n",
       "      <th></th>\n",
       "      <th>city_development_index</th>\n",
       "      <th>experience</th>\n",
       "      <th>last_new_job</th>\n",
       "      <th>training_hours</th>\n",
       "      <th>target</th>\n",
       "      <th>gender_Male</th>\n",
       "      <th>gender_Other</th>\n",
       "      <th>relevent_experience_No relevent experience</th>\n",
       "      <th>enrolled_university_Part time course</th>\n",
       "      <th>enrolled_university_no_enrollment</th>\n",
       "      <th>...</th>\n",
       "      <th>company_size_10000+</th>\n",
       "      <th>company_size_50-99</th>\n",
       "      <th>company_size_500-999</th>\n",
       "      <th>company_size_5000-9999</th>\n",
       "      <th>company_size_&lt;10</th>\n",
       "      <th>company_type_Funded Startup</th>\n",
       "      <th>company_type_NGO</th>\n",
       "      <th>company_type_Other</th>\n",
       "      <th>company_type_Public Sector</th>\n",
       "      <th>company_type_Pvt Ltd</th>\n",
       "    </tr>\n",
       "  </thead>\n",
       "  <tbody>\n",
       "    <tr>\n",
       "      <th>0</th>\n",
       "      <td>0.920</td>\n",
       "      <td>21</td>\n",
       "      <td>0</td>\n",
       "      <td>36</td>\n",
       "      <td>1.0</td>\n",
       "      <td>1</td>\n",
       "      <td>0</td>\n",
       "      <td>0</td>\n",
       "      <td>0</td>\n",
       "      <td>1</td>\n",
       "      <td>...</td>\n",
       "      <td>0</td>\n",
       "      <td>1</td>\n",
       "      <td>0</td>\n",
       "      <td>0</td>\n",
       "      <td>0</td>\n",
       "      <td>0</td>\n",
       "      <td>0</td>\n",
       "      <td>0</td>\n",
       "      <td>0</td>\n",
       "      <td>1</td>\n",
       "    </tr>\n",
       "    <tr>\n",
       "      <th>1</th>\n",
       "      <td>0.776</td>\n",
       "      <td>15</td>\n",
       "      <td>4</td>\n",
       "      <td>47</td>\n",
       "      <td>0.0</td>\n",
       "      <td>1</td>\n",
       "      <td>0</td>\n",
       "      <td>1</td>\n",
       "      <td>0</td>\n",
       "      <td>1</td>\n",
       "      <td>...</td>\n",
       "      <td>0</td>\n",
       "      <td>1</td>\n",
       "      <td>0</td>\n",
       "      <td>0</td>\n",
       "      <td>0</td>\n",
       "      <td>0</td>\n",
       "      <td>0</td>\n",
       "      <td>0</td>\n",
       "      <td>0</td>\n",
       "      <td>1</td>\n",
       "    </tr>\n",
       "    <tr>\n",
       "      <th>2</th>\n",
       "      <td>0.624</td>\n",
       "      <td>5</td>\n",
       "      <td>5</td>\n",
       "      <td>83</td>\n",
       "      <td>0.0</td>\n",
       "      <td>1</td>\n",
       "      <td>0</td>\n",
       "      <td>1</td>\n",
       "      <td>0</td>\n",
       "      <td>0</td>\n",
       "      <td>...</td>\n",
       "      <td>0</td>\n",
       "      <td>1</td>\n",
       "      <td>0</td>\n",
       "      <td>0</td>\n",
       "      <td>0</td>\n",
       "      <td>0</td>\n",
       "      <td>0</td>\n",
       "      <td>0</td>\n",
       "      <td>0</td>\n",
       "      <td>1</td>\n",
       "    </tr>\n",
       "    <tr>\n",
       "      <th>4</th>\n",
       "      <td>0.767</td>\n",
       "      <td>21</td>\n",
       "      <td>3</td>\n",
       "      <td>8</td>\n",
       "      <td>0.0</td>\n",
       "      <td>1</td>\n",
       "      <td>0</td>\n",
       "      <td>0</td>\n",
       "      <td>0</td>\n",
       "      <td>1</td>\n",
       "      <td>...</td>\n",
       "      <td>0</td>\n",
       "      <td>1</td>\n",
       "      <td>0</td>\n",
       "      <td>0</td>\n",
       "      <td>0</td>\n",
       "      <td>1</td>\n",
       "      <td>0</td>\n",
       "      <td>0</td>\n",
       "      <td>0</td>\n",
       "      <td>0</td>\n",
       "    </tr>\n",
       "    <tr>\n",
       "      <th>5</th>\n",
       "      <td>0.764</td>\n",
       "      <td>11</td>\n",
       "      <td>0</td>\n",
       "      <td>24</td>\n",
       "      <td>1.0</td>\n",
       "      <td>1</td>\n",
       "      <td>0</td>\n",
       "      <td>0</td>\n",
       "      <td>1</td>\n",
       "      <td>0</td>\n",
       "      <td>...</td>\n",
       "      <td>0</td>\n",
       "      <td>1</td>\n",
       "      <td>0</td>\n",
       "      <td>0</td>\n",
       "      <td>0</td>\n",
       "      <td>0</td>\n",
       "      <td>0</td>\n",
       "      <td>0</td>\n",
       "      <td>0</td>\n",
       "      <td>1</td>\n",
       "    </tr>\n",
       "  </tbody>\n",
       "</table>\n",
       "<p>5 rows × 31 columns</p>\n",
       "</div>"
      ],
      "text/plain": [
       "   city_development_index  experience  last_new_job  training_hours  target  \\\n",
       "0                   0.920          21             0              36     1.0   \n",
       "1                   0.776          15             4              47     0.0   \n",
       "2                   0.624           5             5              83     0.0   \n",
       "4                   0.767          21             3               8     0.0   \n",
       "5                   0.764          11             0              24     1.0   \n",
       "\n",
       "   gender_Male  gender_Other  relevent_experience_No relevent experience  \\\n",
       "0            1             0                                           0   \n",
       "1            1             0                                           1   \n",
       "2            1             0                                           1   \n",
       "4            1             0                                           0   \n",
       "5            1             0                                           0   \n",
       "\n",
       "   enrolled_university_Part time course  enrolled_university_no_enrollment  \\\n",
       "0                                     0                                  1   \n",
       "1                                     0                                  1   \n",
       "2                                     0                                  0   \n",
       "4                                     0                                  1   \n",
       "5                                     1                                  0   \n",
       "\n",
       "   ...  company_size_10000+  company_size_50-99  company_size_500-999  \\\n",
       "0  ...                    0                   1                     0   \n",
       "1  ...                    0                   1                     0   \n",
       "2  ...                    0                   1                     0   \n",
       "4  ...                    0                   1                     0   \n",
       "5  ...                    0                   1                     0   \n",
       "\n",
       "   company_size_5000-9999  company_size_<10  company_type_Funded Startup  \\\n",
       "0                       0                 0                            0   \n",
       "1                       0                 0                            0   \n",
       "2                       0                 0                            0   \n",
       "4                       0                 0                            1   \n",
       "5                       0                 0                            0   \n",
       "\n",
       "   company_type_NGO  company_type_Other  company_type_Public Sector  \\\n",
       "0                 0                   0                           0   \n",
       "1                 0                   0                           0   \n",
       "2                 0                   0                           0   \n",
       "4                 0                   0                           0   \n",
       "5                 0                   0                           0   \n",
       "\n",
       "   company_type_Pvt Ltd  \n",
       "0                     1  \n",
       "1                     1  \n",
       "2                     1  \n",
       "4                     0  \n",
       "5                     1  \n",
       "\n",
       "[5 rows x 31 columns]"
      ]
     },
     "execution_count": 24,
     "metadata": {},
     "output_type": "execute_result"
    }
   ],
   "source": [
    "#Dropping unnecessary columns\n",
    "df2.drop(['enrollee_id','city'],axis=1,inplace=True)\n",
    "df2.head()"
   ]
  },
  {
   "cell_type": "code",
   "execution_count": 25,
   "metadata": {
    "execution": {
     "iopub.execute_input": "2021-02-21T19:22:39.263293Z",
     "iopub.status.busy": "2021-02-21T19:22:39.262583Z",
     "iopub.status.idle": "2021-02-21T19:22:39.272792Z",
     "shell.execute_reply": "2021-02-21T19:22:39.272170Z"
    },
    "papermill": {
     "duration": 0.05886,
     "end_time": "2021-02-21T19:22:39.272979",
     "exception": false,
     "start_time": "2021-02-21T19:22:39.214119",
     "status": "completed"
    },
    "tags": []
   },
   "outputs": [
    {
     "data": {
      "text/plain": [
       "target\n",
       "0.0    13593\n",
       "1.0     4421\n",
       "Name: target, dtype: int64"
      ]
     },
     "execution_count": 25,
     "metadata": {},
     "output_type": "execute_result"
    }
   ],
   "source": [
    "#Checking if there is any imbalances in the dataset\n",
    "df2.groupby('target')['target'].count()"
   ]
  },
  {
   "cell_type": "markdown",
   "metadata": {
    "papermill": {
     "duration": 0.045648,
     "end_time": "2021-02-21T19:22:39.363670",
     "exception": false,
     "start_time": "2021-02-21T19:22:39.318022",
     "status": "completed"
    },
    "tags": []
   },
   "source": [
    "**Observation:**\n",
    "* Dataset is imbalanced. Lets use SMOTE technique to resolve this issue\n"
   ]
  },
  {
   "cell_type": "code",
   "execution_count": 26,
   "metadata": {
    "execution": {
     "iopub.execute_input": "2021-02-21T19:22:39.462656Z",
     "iopub.status.busy": "2021-02-21T19:22:39.461865Z",
     "iopub.status.idle": "2021-02-21T19:22:39.611327Z",
     "shell.execute_reply": "2021-02-21T19:22:39.610621Z"
    },
    "papermill": {
     "duration": 0.202189,
     "end_time": "2021-02-21T19:22:39.611485",
     "exception": false,
     "start_time": "2021-02-21T19:22:39.409296",
     "status": "completed"
    },
    "tags": []
   },
   "outputs": [
    {
     "name": "stdout",
     "output_type": "stream",
     "text": [
      "Counter({1.0: 13593, 0.0: 13593})\n"
     ]
    }
   ],
   "source": [
    "X = df2.drop(['target'],axis=1)\n",
    "y = df2['target']\n",
    "\n",
    "sm = SMOTE(random_state=42)\n",
    "X_smote,y_smote = sm.fit_sample(X,y)\n",
    "\n",
    "count_class = Counter(y_smote)\n",
    "print(count_class)"
   ]
  },
  {
   "cell_type": "code",
   "execution_count": 27,
   "metadata": {
    "execution": {
     "iopub.execute_input": "2021-02-21T19:22:39.711244Z",
     "iopub.status.busy": "2021-02-21T19:22:39.710546Z",
     "iopub.status.idle": "2021-02-21T19:22:39.714807Z",
     "shell.execute_reply": "2021-02-21T19:22:39.714245Z"
    },
    "papermill": {
     "duration": 0.057293,
     "end_time": "2021-02-21T19:22:39.714971",
     "exception": false,
     "start_time": "2021-02-21T19:22:39.657678",
     "status": "completed"
    },
    "tags": []
   },
   "outputs": [],
   "source": [
    "#Renaming this specific column because it contains '<' in the column name\n",
    "X_smote.rename(columns={'company_size_<10':'company_size_10'}, inplace=True)"
   ]
  },
  {
   "cell_type": "markdown",
   "metadata": {
    "papermill": {
     "duration": 0.045663,
     "end_time": "2021-02-21T19:22:39.807497",
     "exception": false,
     "start_time": "2021-02-21T19:22:39.761834",
     "status": "completed"
    },
    "tags": []
   },
   "source": [
    "# Model Selection and Building"
   ]
  },
  {
   "cell_type": "markdown",
   "metadata": {
    "papermill": {
     "duration": 0.04626,
     "end_time": "2021-02-21T19:22:39.899741",
     "exception": false,
     "start_time": "2021-02-21T19:22:39.853481",
     "status": "completed"
    },
    "tags": []
   },
   "source": [
    "Comparison between SVM and XGboost"
   ]
  },
  {
   "cell_type": "code",
   "execution_count": 28,
   "metadata": {
    "execution": {
     "iopub.execute_input": "2021-02-21T19:22:39.999502Z",
     "iopub.status.busy": "2021-02-21T19:22:39.998747Z",
     "iopub.status.idle": "2021-02-21T19:22:40.002653Z",
     "shell.execute_reply": "2021-02-21T19:22:40.001894Z"
    },
    "papermill": {
     "duration": 0.056823,
     "end_time": "2021-02-21T19:22:40.002817",
     "exception": false,
     "start_time": "2021-02-21T19:22:39.945994",
     "status": "completed"
    },
    "tags": []
   },
   "outputs": [],
   "source": [
    "models = {\n",
    "    'SVM':{'model':svm.SVC(gamma='auto',C=5,kernel='rbf'),'params': {'C': [1,5,10]}},\n",
    "    'xgboost':{'model':xgb.XGBClassifier(),'params': {'max_depth':[4,6,8],'gamma': [0.5, 1, 2, 5]}}\n",
    "}"
   ]
  },
  {
   "cell_type": "code",
   "execution_count": 29,
   "metadata": {
    "execution": {
     "iopub.execute_input": "2021-02-21T19:22:40.102668Z",
     "iopub.status.busy": "2021-02-21T19:22:40.101982Z",
     "iopub.status.idle": "2021-02-21T19:27:43.703833Z",
     "shell.execute_reply": "2021-02-21T19:27:43.704462Z"
    },
    "papermill": {
     "duration": 303.656037,
     "end_time": "2021-02-21T19:27:43.704714",
     "exception": false,
     "start_time": "2021-02-21T19:22:40.048677",
     "status": "completed"
    },
    "tags": []
   },
   "outputs": [
    {
     "name": "stderr",
     "output_type": "stream",
     "text": [
      "/opt/conda/lib/python3.7/site-packages/xgboost/sklearn.py:888: UserWarning: The use of label encoder in XGBClassifier is deprecated and will be removed in a future release. To remove this warning, do the following: 1) Pass option use_label_encoder=False when constructing XGBClassifier object; and 2) Encode your labels (y) as integers starting with 0, i.e. 0, 1, 2, ..., [num_class - 1].\n",
      "  warnings.warn(label_encoder_deprecation_msg, UserWarning)\n"
     ]
    },
    {
     "name": "stdout",
     "output_type": "stream",
     "text": [
      "[19:27:15] WARNING: ../src/learner.cc:1061: Starting in XGBoost 1.3.0, the default evaluation metric used with the objective 'binary:logistic' was changed from 'error' to 'logloss'. Explicitly set eval_metric if you'd like to restore the old behavior.\n",
      "[19:27:16] WARNING: ../src/learner.cc:1061: Starting in XGBoost 1.3.0, the default evaluation metric used with the objective 'binary:logistic' was changed from 'error' to 'logloss'. Explicitly set eval_metric if you'd like to restore the old behavior.\n",
      "[19:27:17] WARNING: ../src/learner.cc:1061: Starting in XGBoost 1.3.0, the default evaluation metric used with the objective 'binary:logistic' was changed from 'error' to 'logloss'. Explicitly set eval_metric if you'd like to restore the old behavior.\n",
      "[19:27:18] WARNING: ../src/learner.cc:1061: Starting in XGBoost 1.3.0, the default evaluation metric used with the objective 'binary:logistic' was changed from 'error' to 'logloss'. Explicitly set eval_metric if you'd like to restore the old behavior.\n",
      "[19:27:19] WARNING: ../src/learner.cc:1061: Starting in XGBoost 1.3.0, the default evaluation metric used with the objective 'binary:logistic' was changed from 'error' to 'logloss'. Explicitly set eval_metric if you'd like to restore the old behavior.\n",
      "[19:27:21] WARNING: ../src/learner.cc:1061: Starting in XGBoost 1.3.0, the default evaluation metric used with the objective 'binary:logistic' was changed from 'error' to 'logloss'. Explicitly set eval_metric if you'd like to restore the old behavior.\n",
      "[19:27:22] WARNING: ../src/learner.cc:1061: Starting in XGBoost 1.3.0, the default evaluation metric used with the objective 'binary:logistic' was changed from 'error' to 'logloss'. Explicitly set eval_metric if you'd like to restore the old behavior.\n",
      "[19:27:23] WARNING: ../src/learner.cc:1061: Starting in XGBoost 1.3.0, the default evaluation metric used with the objective 'binary:logistic' was changed from 'error' to 'logloss'. Explicitly set eval_metric if you'd like to restore the old behavior.\n",
      "[19:27:24] WARNING: ../src/learner.cc:1061: Starting in XGBoost 1.3.0, the default evaluation metric used with the objective 'binary:logistic' was changed from 'error' to 'logloss'. Explicitly set eval_metric if you'd like to restore the old behavior.\n",
      "[19:27:25] WARNING: ../src/learner.cc:1061: Starting in XGBoost 1.3.0, the default evaluation metric used with the objective 'binary:logistic' was changed from 'error' to 'logloss'. Explicitly set eval_metric if you'd like to restore the old behavior.\n",
      "[19:27:26] WARNING: ../src/learner.cc:1061: Starting in XGBoost 1.3.0, the default evaluation metric used with the objective 'binary:logistic' was changed from 'error' to 'logloss'. Explicitly set eval_metric if you'd like to restore the old behavior.\n",
      "[19:27:27] WARNING: ../src/learner.cc:1061: Starting in XGBoost 1.3.0, the default evaluation metric used with the objective 'binary:logistic' was changed from 'error' to 'logloss'. Explicitly set eval_metric if you'd like to restore the old behavior.\n",
      "[19:27:28] WARNING: ../src/learner.cc:1061: Starting in XGBoost 1.3.0, the default evaluation metric used with the objective 'binary:logistic' was changed from 'error' to 'logloss'. Explicitly set eval_metric if you'd like to restore the old behavior.\n",
      "[19:27:29] WARNING: ../src/learner.cc:1061: Starting in XGBoost 1.3.0, the default evaluation metric used with the objective 'binary:logistic' was changed from 'error' to 'logloss'. Explicitly set eval_metric if you'd like to restore the old behavior.\n",
      "[19:27:30] WARNING: ../src/learner.cc:1061: Starting in XGBoost 1.3.0, the default evaluation metric used with the objective 'binary:logistic' was changed from 'error' to 'logloss'. Explicitly set eval_metric if you'd like to restore the old behavior.\n",
      "[19:27:31] WARNING: ../src/learner.cc:1061: Starting in XGBoost 1.3.0, the default evaluation metric used with the objective 'binary:logistic' was changed from 'error' to 'logloss'. Explicitly set eval_metric if you'd like to restore the old behavior.\n",
      "[19:27:32] WARNING: ../src/learner.cc:1061: Starting in XGBoost 1.3.0, the default evaluation metric used with the objective 'binary:logistic' was changed from 'error' to 'logloss'. Explicitly set eval_metric if you'd like to restore the old behavior.\n",
      "[19:27:33] WARNING: ../src/learner.cc:1061: Starting in XGBoost 1.3.0, the default evaluation metric used with the objective 'binary:logistic' was changed from 'error' to 'logloss'. Explicitly set eval_metric if you'd like to restore the old behavior.\n",
      "[19:27:35] WARNING: ../src/learner.cc:1061: Starting in XGBoost 1.3.0, the default evaluation metric used with the objective 'binary:logistic' was changed from 'error' to 'logloss'. Explicitly set eval_metric if you'd like to restore the old behavior.\n",
      "[19:27:35] WARNING: ../src/learner.cc:1061: Starting in XGBoost 1.3.0, the default evaluation metric used with the objective 'binary:logistic' was changed from 'error' to 'logloss'. Explicitly set eval_metric if you'd like to restore the old behavior.\n",
      "[19:27:36] WARNING: ../src/learner.cc:1061: Starting in XGBoost 1.3.0, the default evaluation metric used with the objective 'binary:logistic' was changed from 'error' to 'logloss'. Explicitly set eval_metric if you'd like to restore the old behavior.\n",
      "[19:27:37] WARNING: ../src/learner.cc:1061: Starting in XGBoost 1.3.0, the default evaluation metric used with the objective 'binary:logistic' was changed from 'error' to 'logloss'. Explicitly set eval_metric if you'd like to restore the old behavior.\n",
      "[19:27:38] WARNING: ../src/learner.cc:1061: Starting in XGBoost 1.3.0, the default evaluation metric used with the objective 'binary:logistic' was changed from 'error' to 'logloss'. Explicitly set eval_metric if you'd like to restore the old behavior.\n",
      "[19:27:39] WARNING: ../src/learner.cc:1061: Starting in XGBoost 1.3.0, the default evaluation metric used with the objective 'binary:logistic' was changed from 'error' to 'logloss'. Explicitly set eval_metric if you'd like to restore the old behavior.\n",
      "[19:27:41] WARNING: ../src/learner.cc:1061: Starting in XGBoost 1.3.0, the default evaluation metric used with the objective 'binary:logistic' was changed from 'error' to 'logloss'. Explicitly set eval_metric if you'd like to restore the old behavior.\n"
     ]
    },
    {
     "data": {
      "text/html": [
       "<div>\n",
       "<style scoped>\n",
       "    .dataframe tbody tr th:only-of-type {\n",
       "        vertical-align: middle;\n",
       "    }\n",
       "\n",
       "    .dataframe tbody tr th {\n",
       "        vertical-align: top;\n",
       "    }\n",
       "\n",
       "    .dataframe thead th {\n",
       "        text-align: right;\n",
       "    }\n",
       "</style>\n",
       "<table border=\"1\" class=\"dataframe\">\n",
       "  <thead>\n",
       "    <tr style=\"text-align: right;\">\n",
       "      <th></th>\n",
       "      <th>model</th>\n",
       "      <th>best_score</th>\n",
       "      <th>best_params</th>\n",
       "    </tr>\n",
       "  </thead>\n",
       "  <tbody>\n",
       "    <tr>\n",
       "      <th>0</th>\n",
       "      <td>SVM</td>\n",
       "      <td>0.758883</td>\n",
       "      <td>{'C': 10}</td>\n",
       "    </tr>\n",
       "    <tr>\n",
       "      <th>1</th>\n",
       "      <td>xgboost</td>\n",
       "      <td>0.782241</td>\n",
       "      <td>{'gamma': 0.5, 'max_depth': 8}</td>\n",
       "    </tr>\n",
       "  </tbody>\n",
       "</table>\n",
       "</div>"
      ],
      "text/plain": [
       "     model  best_score                     best_params\n",
       "0      SVM    0.758883                       {'C': 10}\n",
       "1  xgboost    0.782241  {'gamma': 0.5, 'max_depth': 8}"
      ]
     },
     "execution_count": 29,
     "metadata": {},
     "output_type": "execute_result"
    }
   ],
   "source": [
    "#Hyperparameters tuning using GridSearchCV\n",
    "scores = []\n",
    "\n",
    "for model_name, mp in models.items():\n",
    "    clf =  GridSearchCV(mp['model'],mp['params'] ,cv= 2, return_train_score=False)\n",
    "    clf.fit(X_smote, y_smote)\n",
    "    scores.append({\n",
    "        'model': model_name,\n",
    "        'best_score': clf.best_score_,\n",
    "        'best_params': clf.best_params_\n",
    "    })\n",
    "    \n",
    "df_model = pd.DataFrame(scores,columns=['model','best_score','best_params'])\n",
    "df_model"
   ]
  },
  {
   "cell_type": "markdown",
   "metadata": {
    "papermill": {
     "duration": 0.055109,
     "end_time": "2021-02-21T19:27:43.815485",
     "exception": false,
     "start_time": "2021-02-21T19:27:43.760376",
     "status": "completed"
    },
    "tags": []
   },
   "source": [
    "**Observation**\n",
    "* Xgboost performs well than SVM in this case"
   ]
  },
  {
   "cell_type": "code",
   "execution_count": 30,
   "metadata": {
    "execution": {
     "iopub.execute_input": "2021-02-21T19:27:43.931289Z",
     "iopub.status.busy": "2021-02-21T19:27:43.930608Z",
     "iopub.status.idle": "2021-02-21T19:27:43.944822Z",
     "shell.execute_reply": "2021-02-21T19:27:43.945337Z"
    },
    "papermill": {
     "duration": 0.073922,
     "end_time": "2021-02-21T19:27:43.945566",
     "exception": false,
     "start_time": "2021-02-21T19:27:43.871644",
     "status": "completed"
    },
    "tags": []
   },
   "outputs": [],
   "source": [
    "X_train, X_test, y_train, y_test = train_test_split(X_smote,y_smote,test_size=0.3, random_state=42)"
   ]
  },
  {
   "cell_type": "code",
   "execution_count": 31,
   "metadata": {
    "execution": {
     "iopub.execute_input": "2021-02-21T19:27:44.065536Z",
     "iopub.status.busy": "2021-02-21T19:27:44.064777Z",
     "iopub.status.idle": "2021-02-21T19:27:45.967561Z",
     "shell.execute_reply": "2021-02-21T19:27:45.968200Z"
    },
    "papermill": {
     "duration": 1.967703,
     "end_time": "2021-02-21T19:27:45.968457",
     "exception": false,
     "start_time": "2021-02-21T19:27:44.000754",
     "status": "completed"
    },
    "tags": []
   },
   "outputs": [
    {
     "name": "stderr",
     "output_type": "stream",
     "text": [
      "/opt/conda/lib/python3.7/site-packages/xgboost/sklearn.py:888: UserWarning: The use of label encoder in XGBClassifier is deprecated and will be removed in a future release. To remove this warning, do the following: 1) Pass option use_label_encoder=False when constructing XGBClassifier object; and 2) Encode your labels (y) as integers starting with 0, i.e. 0, 1, 2, ..., [num_class - 1].\n",
      "  warnings.warn(label_encoder_deprecation_msg, UserWarning)\n"
     ]
    },
    {
     "name": "stdout",
     "output_type": "stream",
     "text": [
      "[19:27:44] WARNING: ../src/learner.cc:1061: Starting in XGBoost 1.3.0, the default evaluation metric used with the objective 'binary:logistic' was changed from 'error' to 'logloss'. Explicitly set eval_metric if you'd like to restore the old behavior.\n",
      "              precision    recall  f1-score   support\n",
      "\n",
      "         0.0       0.84      0.84      0.84      4141\n",
      "         1.0       0.83      0.83      0.83      4015\n",
      "\n",
      "    accuracy                           0.83      8156\n",
      "   macro avg       0.83      0.83      0.83      8156\n",
      "weighted avg       0.83      0.83      0.83      8156\n",
      "\n"
     ]
    }
   ],
   "source": [
    "model = xgb.XGBClassifier(gamma=0.5,max_depth=8)\n",
    "model.fit(X_train,y_train)\n",
    "ypred = model.predict(X_test)\n",
    "print(classification_report(y_test,ypred))"
   ]
  },
  {
   "cell_type": "code",
   "execution_count": 32,
   "metadata": {
    "execution": {
     "iopub.execute_input": "2021-02-21T19:27:46.089439Z",
     "iopub.status.busy": "2021-02-21T19:27:46.088317Z",
     "iopub.status.idle": "2021-02-21T19:27:46.095204Z",
     "shell.execute_reply": "2021-02-21T19:27:46.095689Z"
    },
    "papermill": {
     "duration": 0.070627,
     "end_time": "2021-02-21T19:27:46.095914",
     "exception": false,
     "start_time": "2021-02-21T19:27:46.025287",
     "status": "completed"
    },
    "tags": []
   },
   "outputs": [
    {
     "name": "stdout",
     "output_type": "stream",
     "text": [
      "Xgboost model accuracy -  83.49681216282492\n"
     ]
    }
   ],
   "source": [
    "print(\"Xgboost model accuracy - \", accuracy_score(y_test,ypred)*100)"
   ]
  },
  {
   "cell_type": "code",
   "execution_count": 33,
   "metadata": {
    "execution": {
     "iopub.execute_input": "2021-02-21T19:27:46.218923Z",
     "iopub.status.busy": "2021-02-21T19:27:46.217885Z",
     "iopub.status.idle": "2021-02-21T19:27:46.966166Z",
     "shell.execute_reply": "2021-02-21T19:27:46.965207Z"
    },
    "papermill": {
     "duration": 0.811089,
     "end_time": "2021-02-21T19:27:46.966350",
     "exception": false,
     "start_time": "2021-02-21T19:27:46.155261",
     "status": "completed"
    },
    "tags": []
   },
   "outputs": [
    {
     "data": {
      "image/png": "[encoded data removed]",
      "text/plain": [
       "<Figure size 720x504 with 1 Axes>"
      ]
     },
     "metadata": {
      "needs_background": "light"
     },
     "output_type": "display_data"
    }
   ],
   "source": [
    "#Plotting features importance\n",
    "plt.rcParams[\"figure.figsize\"] = (10, 7)\n",
    "plot_importance(model)\n",
    "plt.show()"
   ]
  }
 ],
 "metadata": {
  "kernelspec": {
   "display_name": "Python 3",
   "language": "python",
   "name": "python3"
  },
  "language_info": {
   "codemirror_mode": {
    "name": "ipython",
    "version": 3
   },
   "file_extension": ".py",
   "mimetype": "text/x-python",
   "name": "python",
   "nbconvert_exporter": "python",
   "pygments_lexer": "ipython3",
   "version": "3.7.9"
  },
  "papermill": {
   "default_parameters": {},
   "duration": 322.606218,
   "end_time": "2021-02-21T19:27:47.939520",
   "environment_variables": {},
   "exception": null,
   "input_path": "__notebook__.ipynb",
   "output_path": "__notebook__.ipynb",
   "parameters": {},
   "start_time": "2021-02-21T19:22:25.333302",
   "version": "2.2.2"
  }
 },
 "nbformat": 4,
 "nbformat_minor": 4
}
